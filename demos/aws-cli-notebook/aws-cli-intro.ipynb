{
 "cells": [
  {
   "cell_type": "markdown",
   "metadata": {},
   "source": [
    "# AWS CLI Introduction\n",
    "\n",
    "This is a jupyter notebook that uses the [bash_kernel](https://pypi.org/project/bash_kernel/) to introduce the AWS CLI. Please complete the steps in the [README](./README.md) before running this notebook."
   ]
  },
  {
   "cell_type": "markdown",
   "metadata": {
    "tags": []
   },
   "source": [
    "## AWS CLI\n",
    "\n",
    "The AWS Command Line Interface (AWS CLI) is an open source tool that enables you to interact with AWS services using commands in your command-line shell. See the [documentation](https://docs.aws.amazon.com/cli/latest/userguide/cli-chap-welcome.html) for more details.\n",
    "\n",
    "Amazon Linux hosts used in most labs will have AWS CLI v1 preinstalled. The ACO course and demo video also describe the v1 of the CLI, however development on v1 has now stopped so new services are now only added to v2. v2 is [mostly compatible](https://docs.aws.amazon.com/cli/latest/userguide/cliv2-migration.html) with v1 and has some nice usability improvements, but the [installation](https://docs.aws.amazon.com/cli/latest/userguide/install-cliv2.html) is a bit more convoluted.\n",
    "\n",
    "Activity 1 in the ACO course uses a RedHat instance to show students how to install and configure the CLI for their account. If students have their own accounts, or AWS Educate Starter accounts, encourage them to configure the CLI on their desktop to remote access those accounts. You can suggest to your students to use v2 for this activity and for their local installation."
   ]
  },
  {
   "cell_type": "markdown",
   "metadata": {},
   "source": [
    "## CLI Installation\n",
    "\n",
    "Follow the instructions for either [v1](https://docs.aws.amazon.com/cli/latest/userguide/install-cliv1.html) or [v2](https://docs.aws.amazon.com/cli/latest/userguide/install-cliv2.html)."
   ]
  },
  {
   "cell_type": "markdown",
   "metadata": {},
   "source": [
    "What version do you have installed?"
   ]
  },
  {
   "cell_type": "code",
   "execution_count": null,
   "metadata": {
    "tags": []
   },
   "outputs": [],
   "source": [
    "aws --version"
   ]
  },
  {
   "cell_type": "markdown",
   "metadata": {},
   "source": [
    "## Authentication\n",
    "\n",
    "In a SageMaker notebook your credentials will already be set to the role ypu specified when you created the notebook, you should not have to set the access keys.\n",
    "\n",
    "For your own account you may need to first run `aws configure` command to set the user access and secret access keys to authenticate with your account.\n",
    "\n",
    "We can use the AWS Security Token Service to confirm we have properly authenticated to our account. If running in a AWS SageMaker notebook you will have the permissions you granted the role you used when creating the notebook. If running in a different environment, for example on your desktop, you may need to provide your user's access and secret access key.\n",
    "\n",
    "If this returns an error like _\"The security token included in the request is invalid.\"_ you will need to recheck your authentication."
   ]
  },
  {
   "cell_type": "code",
   "execution_count": null,
   "metadata": {
    "tags": []
   },
   "outputs": [],
   "source": [
    "export AWS_ACCESS_KEY_ID=\n",
    "export AWS_SECRET_ACCESS_KEY=\n",
    "export AWS_SESSION_TOKEN=\n",
    "aws sts get-caller-identity"
   ]
  },
  {
   "cell_type": "markdown",
   "metadata": {},
   "source": [
    "## CLI Help"
   ]
  },
  {
   "cell_type": "markdown",
   "metadata": {},
   "source": [
    "The aws command format looks like this: \n",
    "`aws` `<command>` `<subcommand>` `[options and parameters]`\n",
    "\n",
    "A `command` could be _ec2_, _s3_, _rds_ or _secretsmanager_, the full list can seen with `aws help`. Possible `subcommand` depend on the `command` selected and these are listed using _help_ as the `subcommand`."
   ]
  },
  {
   "cell_type": "code",
   "execution_count": null,
   "metadata": {
    "tags": []
   },
   "outputs": [],
   "source": [
    "aws sts help"
   ]
  },
  {
   "cell_type": "markdown",
   "metadata": {},
   "source": [
    "## Output, Query and Filters\n",
    "\n",
    "Every account in each region always has a default VPC so you can always explore VPCs without have to first create a resource to explore. The [describe-vpcs](https://awscli.amazonaws.com/v2/documentation/api/latest/reference/ec2/describe-vpcs.html) subcommand for `ec2` will output a large JSON blob describing all the VPCs in this account in this region.\n",
    "\n",
    "If you get an error with this command, check what policies are attached to the role you are using and ensure it has full access to EC2 before trying again."
   ]
  },
  {
   "cell_type": "code",
   "execution_count": null,
   "metadata": {
    "tags": []
   },
   "outputs": [],
   "source": [
    "aws ec2 describe-vpcs help"
   ]
  },
  {
   "cell_type": "code",
   "execution_count": null,
   "metadata": {
    "tags": []
   },
   "outputs": [],
   "source": [
    "aws ec2 describe-vpcs"
   ]
  },
  {
   "cell_type": "markdown",
   "metadata": {
    "tags": []
   },
   "source": [
    "We can [query](https://docs.aws.amazon.com/cli/latest/userguide/cli-usage-output.html#cli-usage-output-filter) a subset of the output using [JMESPath](http://jmespath.org/) strings. From the JSON above we see the VPCs are a list, and within the list we can just pull out specific values like the VpcId and CidrBlock. Notice that we can rename those fields if we want to."
   ]
  },
  {
   "cell_type": "code",
   "execution_count": null,
   "metadata": {
    "tags": []
   },
   "outputs": [],
   "source": [
    "aws ec2 describe-vpcs --query 'Vpcs[*].{ID:VpcId,CIDR:CidrBlock,Default:IsDefault}'"
   ]
  },
  {
   "cell_type": "markdown",
   "metadata": {},
   "source": [
    "The output format can be changed with `--output` to `table`, `text` (and with v2 `yaml`):"
   ]
  },
  {
   "cell_type": "code",
   "execution_count": null,
   "metadata": {
    "tags": []
   },
   "outputs": [],
   "source": [
    "aws ec2 describe-vpcs --query 'Vpcs[*].{ID:VpcId,CIDR:CidrBlock,Default:IsDefault}' --output table"
   ]
  },
  {
   "cell_type": "code",
   "execution_count": null,
   "metadata": {
    "tags": []
   },
   "outputs": [],
   "source": [
    "aws ec2 describe-vpcs --query 'Vpcs[*].{ID:VpcId,CIDR:CidrBlock,Default:IsDefault}' --output text"
   ]
  },
  {
   "cell_type": "code",
   "execution_count": null,
   "metadata": {
    "tags": []
   },
   "outputs": [],
   "source": [
    "aws ec2 describe-vpcs --query 'Vpcs[*].{ID:VpcId,CIDR:CidrBlock,Default:IsDefault}' --output yaml"
   ]
  },
  {
   "cell_type": "markdown",
   "metadata": {},
   "source": [
    "If we just want the first VPC returned in the json blob:"
   ]
  },
  {
   "cell_type": "code",
   "execution_count": null,
   "metadata": {
    "tags": []
   },
   "outputs": [],
   "source": [
    "aws ec2 describe-vpcs --query 'Vpcs[0].{ID:VpcId,CIDR:CidrBlock,Default:IsDefault}'"
   ]
  },
  {
   "cell_type": "markdown",
   "metadata": {},
   "source": [
    "Or we can find the default VPC by using the `?` operator. Note the use of backticks in the query expression."
   ]
  },
  {
   "cell_type": "code",
   "execution_count": null,
   "metadata": {
    "tags": []
   },
   "outputs": [],
   "source": [
    "aws ec2 describe-vpcs --query 'Vpcs[?IsDefault==`true`].{ID:VpcId,CIDR:CidrBlock,Default:IsDefault}'"
   ]
  },
  {
   "cell_type": "markdown",
   "metadata": {},
   "source": [
    "That approach is applying the expression to the result returned to the CLI client. The preferred way to specify what resources are returned by a command is use the `--filters` option if a filter exists for your resource."
   ]
  },
  {
   "cell_type": "code",
   "execution_count": null,
   "metadata": {
    "tags": []
   },
   "outputs": [],
   "source": [
    "aws ec2 describe-vpcs --filters 'Name=isDefault,Values=true' --query 'Vpcs[*].{ID:VpcId,CIDR:CidrBlock,Default:IsDefault}'"
   ]
  },
  {
   "cell_type": "markdown",
   "metadata": {},
   "source": [
    "If you know the ID of resource you are looking for you may be able to specify that as a parameter. Replace `VPCID` with the VpcId from the previous output:"
   ]
  },
  {
   "cell_type": "code",
   "execution_count": null,
   "metadata": {
    "tags": []
   },
   "outputs": [],
   "source": [
    "aws ec2 describe-vpcs --query 'Vpcs[*].{ID:VpcId,CIDR:CidrBlock,Default:IsDefault}' --vpc-ids VPCID"
   ]
  },
  {
   "cell_type": "markdown",
   "metadata": {},
   "source": [
    "## Creating Resources\n",
    "\n",
    "When creating resources there will be some mandatory parameters, as well as optional parameters. From the help for `create-vpc` what parameter is mandatory?\n",
    "\n",
    "_Note: If using cli v2 in a real shell (not a notebook) you can use the `--cli-auto-prompt` option to be prompted for the mandatory parameters. If autocomplete if setup you can also type the start of the parameter `--` and press tab twice to be shown the list of parameters._\n"
   ]
  },
  {
   "cell_type": "code",
   "execution_count": null,
   "metadata": {
    "tags": []
   },
   "outputs": [],
   "source": [
    "aws ec2 create-vpc help"
   ]
  },
  {
   "cell_type": "markdown",
   "metadata": {},
   "source": [
    "Create a VPC with a CIDR block 10.10.0.0/16 by replacing `COMPLETE_ME` below."
   ]
  },
  {
   "cell_type": "code",
   "execution_count": null,
   "metadata": {
    "tags": []
   },
   "outputs": [],
   "source": [
    "aws ec2 create-vpc COMPLETE_ME"
   ]
  },
  {
   "cell_type": "markdown",
   "metadata": {},
   "source": [
    "How would we list the set of VPCs that only have a CIDR range starting with 10? This can be done with a filter or a query."
   ]
  },
  {
   "cell_type": "code",
   "execution_count": null,
   "metadata": {
    "tags": []
   },
   "outputs": [],
   "source": [
    "aws ec2 describe-vpcs COMPLETE_ME"
   ]
  },
  {
   "cell_type": "markdown",
   "metadata": {},
   "source": [
    "To make our VPC more recognisable, add a tag called `Name` to the VPC, replacing `VPCID` with your VPC's ID. Note how tags make the query more complicated."
   ]
  },
  {
   "cell_type": "code",
   "execution_count": null,
   "metadata": {
    "tags": []
   },
   "outputs": [],
   "source": [
    "aws ec2 create-tags \\\n",
    "    --resources VPCID \\\n",
    "    --tags Key=Name,Value=\"notebook-demo-vpc\"\n",
    "\n",
    "aws ec2 describe-vpcs --query 'Vpcs[*].{ID:VpcId,CIDR:CidrBlock,Default:IsDefault,Name:Tags[?Key == `Name`] | [0].Value}' --output table"
   ]
  },
  {
   "cell_type": "markdown",
   "metadata": {},
   "source": [
    "There are two things annoying about what we just did; cutting and pasting the VPCID and have to add a tag to the resource after creating the resource. The later problem has been fixed in v2 with the introduction of `--tag-specifications` to many commands.\n",
    "\n",
    "To fix the first problem we should use shell variables to capture the IDs for our resources as we create them. Replace `VPCID` in the following command to put your VPC's ID into the shell variable called `VPC`."
   ]
  },
  {
   "cell_type": "code",
   "execution_count": null,
   "metadata": {},
   "outputs": [],
   "source": [
    "VPC=VPCID"
   ]
  },
  {
   "cell_type": "markdown",
   "metadata": {},
   "source": [
    "Create a subnet in the new VPC with a CIDR block of 10.10.1.0/24. Note the query is just returning the subnet's ID as a text value."
   ]
  },
  {
   "cell_type": "code",
   "execution_count": null,
   "metadata": {
    "tags": []
   },
   "outputs": [],
   "source": [
    "SUBNET=$(aws ec2 create-subnet \\\n",
    "    --vpc-id $VPC \\\n",
    "    --cidr-block 10.10.1.0/24 \\\n",
    "    --query 'Subnet.SubnetId' \\\n",
    "    --output text)\n",
    "\n",
    "echo $SUBNET"
   ]
  },
  {
   "cell_type": "markdown",
   "metadata": {},
   "source": [
    "Some resources take time to create, like EC2 instances, RDS instances and EBS snapshots. The CLI commands will return before they are done, so you may need to use the `wait` command to know when they are operational."
   ]
  },
  {
   "cell_type": "code",
   "execution_count": null,
   "metadata": {
    "tags": []
   },
   "outputs": [],
   "source": [
    "BASE_AMI=$(aws ssm get-parameter \\\n",
    "    --name /aws/service/ami-amazon-linux-latest/amzn2-ami-hvm-x86_64-gp2 \\\n",
    "    --query 'Parameter.Value' \\\n",
    "    --output text)\n",
    "\n",
    "INSTANCE=$(aws ec2 run-instances \\\n",
    "    --instance-type t2.micro \\\n",
    "    --associate-public-ip-address \\\n",
    "    --image-id $BASE_AMI \\\n",
    "    --subnet-id $SUBNET \\\n",
    "    --output text \\\n",
    "    --query 'Instances[*].InstanceId')\n",
    "\n",
    "echo $INSTANCE\n",
    "\n",
    "aws ec2 wait instance-running --instance-ids $INSTANCE \n",
    "\n",
    "aws ec2 describe-instances \\\n",
    "    --instance-ids $INSTANCE \\\n",
    "    --output table \\\n",
    "    --query \"Reservations[*].Instances[0].{ID:InstanceId,BlockDevices:BlockDeviceMappings[*].{Device:DeviceName,Attached:Ebs.Status,Volume:Ebs.VolumeId},Network:NetworkInterfaces[*].{SecGroups:Groups[*].GroupId,IP:PrivateIpAddresses[*].{PublicIP:Association.PublicIp,PublicDNS:Association.PublicDnsName,PrivateIP:PrivateIpAddress,Primary:Primary},ID:NetworkInterfaceId}}\""
   ]
  },
  {
   "cell_type": "markdown",
   "metadata": {},
   "source": [
    "## Cleanup\n",
    "In general you should remove resources in the reverse order they were created in, effectively popping off a stack. We need to wait for the instance to terminate before we can delete the subnet and VPC."
   ]
  },
  {
   "cell_type": "code",
   "execution_count": null,
   "metadata": {
    "tags": []
   },
   "outputs": [],
   "source": [
    "aws ec2 terminate-instances --instance-ids $INSTANCE\n",
    "aws ec2 wait instance-terminated --instance-ids $INSTANCE\n",
    "echo \"$INSTANCE Terminated\"\n",
    "aws ec2 delete-subnet --subnet-id $SUBNET\n",
    "echo \"$SUBNET Deleted\"\n",
    "aws ec2 delete-vpc --vpc-id $VPC\n",
    "echo \"$VPC Deleted\""
   ]
  },
  {
   "cell_type": "code",
   "execution_count": null,
   "metadata": {
    "tags": []
   },
   "outputs": [],
   "source": [
    "aws ec2 describe-vpcs --query 'Vpcs[*].{ID:VpcId,CIDR:CidrBlock,Default:IsDefault}' --output table"
   ]
  }
 ],
 "metadata": {
  "kernelspec": {
   "display_name": "Bash",
   "language": "bash",
   "name": "bash"
  },
  "language_info": {
   "codemirror_mode": "shell",
   "file_extension": ".sh",
   "mimetype": "text/x-sh",
   "name": "bash",
   "version": "3.7.4-final"
  }
 },
 "nbformat": 4,
 "nbformat_minor": 4
}