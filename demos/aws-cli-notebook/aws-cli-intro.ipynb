{
 "cells": [
  {
   "cell_type": "markdown",
   "metadata": {},
   "source": [
    "# AWS CLI Introduction\n",
    "\n",
    "This is a jupyter notebook that uses the [bash_kernel](https://pypi.org/project/bash_kernel/) to introduce the AWS CLI. Please complete the steps in the [README](./README.md) before running this notebook."
   ]
  },
  {
   "cell_type": "markdown",
   "metadata": {
    "tags": []
   },
   "source": [
    "## AWS CLI\n",
    "\n",
    "The AWS Command Line Interface (AWS CLI) is an open source tool that enables you to interact with AWS services using commands in your command-line shell. See the [documentation](https://docs.aws.amazon.com/cli/latest/userguide/cli-chap-welcome.html) for more details.\n",
    "\n",
    "Amazon Linux hosts used in most labs will have AWS CLI v1 preinstalled. The ACO course and demo video also describe the v1 of the CLI, however development on v1 has now stopped so new services are now only added to v2. v2 is [mostly compatible](https://docs.aws.amazon.com/cli/latest/userguide/cliv2-migration.html) with v1 and has some nice usability improvements, but the [installation](https://docs.aws.amazon.com/cli/latest/userguide/install-cliv2.html) is a bit more convoluted.\n",
    "\n",
    "Activity 1 in the ACO course uses a RedHat instance to show students how to install and configure the CLI for their account. If students have their own accounts, or AWS Educate Starter accounts, encourage them to configure the CLI on their desktop to remote access those accounts. You can suggest to your students to use v2 for this activity and for their local installation."
   ]
  },
  {
   "cell_type": "markdown",
   "metadata": {},
   "source": [
    "## CLI Installation\n",
    "\n",
    "Follow the instructions for either [v1](https://docs.aws.amazon.com/cli/latest/userguide/install-cliv1.html) or [v2](https://docs.aws.amazon.com/cli/latest/userguide/install-cliv2.html)."
   ]
  },
  {
   "cell_type": "markdown",
   "metadata": {},
   "source": [
    "What version do you have installed?"
   ]
  },
  {
   "cell_type": "code",
   "execution_count": null,
   "metadata": {
    "tags": []
   },
   "outputs": [],
   "source": [
    "aws --version"
   ]
  },
  {
   "cell_type": "markdown",
   "metadata": {},
   "source": [
    "## Authentication\n",
    "\n",
    "In a SageMaker notebook your credentials will already be set to the role ypu specified when you created the notebook. For your own account you may need to first run `aws configure` command to set the user access and secret access keys to authenticate with your account."
   ]
  },
  {
   "cell_type": "markdown",
   "metadata": {},
   "source": [
    "We can use the AWS Security Token Service to confirm we have properly authenticated to our account. If running in a AWS SageMaker notebook you will have the permissions you granted the role you used when creating the notebook. If running in a different environment, for example on your desktop, you may need to provide your user's access and secret access key.\n",
    "\n",
    "If this returns an error like _\"The security token included in the request is invalid.\"_ you will need to recheck your authentication."
   ]
  },
  {
   "cell_type": "code",
   "execution_count": 3,
   "metadata": {
    "tags": []
   },
   "outputs": [
    {
     "output_type": "stream",
     "name": "stdout",
     "text": "{\n    \"UserId\": \"AROAJ2WQIZXYSGGVGF37E:dcchatte-Isengard\",\n    \"Account\": \"133766463080\",\n    \"Arn\": \"arn:aws:sts::133766463080:assumed-role/Admin/dcchatte-Isengard\"\n}\n"
    }
   ],
   "source": [
    "export AWS_ACCESS_KEY_ID=\n",
    "export AWS_SECRET_ACCESS_KEY=\n",
    "export AWS_SESSION_TOKEN=\n",
    "aws sts get-caller-identity"
   ]
  },
  {
   "cell_type": "markdown",
   "metadata": {},
   "source": [
    "## CLI Help"
   ]
  },
  {
   "cell_type": "markdown",
   "metadata": {},
   "source": [
    "The aws command format looks like this: \n",
    "`aws` `<command>` `<subcommand>` `[options and parameters]`\n",
    "\n",
    "A `command` could be _ec2_, _s3_, _rds_ or _secretsmanager_, the full list can seen with `aws help`. Possible `subcommand` depend on the `command` selected and these are listed using _help_ as the `subcommand`."
   ]
  },
  {
   "cell_type": "code",
   "execution_count": 4,
   "metadata": {
    "tags": []
   },
   "outputs": [
    {
     "output_type": "stream",
     "name": "stdout",
     "text": "STS()                                                                    STS()\n\n\n\nNAME\n       sts -\n\nDESCRIPTION\n       The  AWS Security Token Service (STS) is a web service that enables you\n       to request temporary, limited-privilege credentials  for  AWS  Identity\n       and  Access  Management  (IAM) users or for users that you authenticate\n       (federated users). This guide provides descriptions of the STS API. For\n       more  detailed  information  about  using this service, go to Temporary\n       Security Credentials .\n\n       For information about setting up signatures and  authorization  through\n       the  API, go to Signing AWS API Requests in the AWS General Reference .\n       For general information  about  the  Query  API,  go  to  Making  Query\n       Requests  in  Using  IAM  . For information about using security tokens\n       with other AWS products, go to AWS Services That Work with IAM  in  the\n       IAM User Guide .\n\n       If  you're new to AWS and need additional technical information about a\n       specific AWS product, you can find the product's  technical  documenta-\n       tion at http://aws.amazon.com/documentation/ .\n          Endpoints\n\n       By  default,  AWS Security Token Service (STS) is available as a global\n       service,  and  all  AWS  STS  requests  go  to  a  single  endpoint  at\n       https://sts.amazonaws.com . Global requests map to the US East (N. Vir-\n       ginia) region. AWS recommends using Regional AWS STS endpoints  instead\n       of  the  global  endpoint  to  reduce latency, build in redundancy, and\n       increase session token validity. For more information, see Managing AWS\n       STS in an AWS Region in the IAM User Guide .\n\n       Most  AWS  Regions  are  enabled  for operations in all AWS services by\n       default. Those Regions are automatically activated  for  use  with  AWS\n       STS.  Some  Regions, such as Asia Pacific (Hong Kong), must be manually\n       enabled. To learn more about enabling and disabling  AWS  Regions,  see\n       Managing  AWS  Regions  in  the AWS General Reference . When you enable\n       these AWS Regions, they are automatically activated for  use  with  AWS\n       STS.  You  cannot  activate  the STS endpoint for a Region that is dis-\n       abled. Tokens that are valid in all AWS Regions are longer than  tokens\n       that  are  valid  in Regions that are enabled by default. Changing this\n       setting might affect  existing  systems  where  you  temporarily  store\n       tokens.  For  more  information,  see  Managing Global Endpoint Session\n       Tokens in the IAM User Guide .\n\n       After you activate a Region for use with AWS STS, you  can  direct  AWS\n       STS  API calls to that Region. AWS STS recommends that you provide both\n       the Region and endpoint when you make calls to a Regional endpoint. You\n       can provide the Region alone for manually enabled Regions, such as Asia\n       Pacific (Hong Kong). In this case, the calls are directed  to  the  STS\n       Regional endpoint. However, if you provide the Region alone for Regions\n       enabled by default, the calls are directed to the  global  endpoint  of\n       https://sts.amazonaws.com .\n\n       To  view  the  list of AWS STS endpoints and whether they are active by\n       default, see Writing Code to Use AWS STS Regions in the IAM User  Guide\n       .\n          Recording API requests\n\n       STS  supports AWS CloudTrail, which is a service that records AWS calls\n       for your AWS account and delivers log files to an Amazon S3 bucket.  By\n       using  information  collected  by  CloudTrail,  you  can determine what\n       requests were successfully made to STS, who made the request,  when  it\n       was made, and so on.\n\n       If  you  activate  AWS  STS endpoints in Regions other than the default\n       global endpoint, then you must also turn on CloudTrail logging in those\n       Regions.  This  is  necessary  to record any AWS STS API calls that are\n       made in those Regions. For more information, see Turning On  CloudTrail\n       in Additional Regions in the AWS CloudTrail User Guide .\n\n       AWS Security Token Service (STS) is a global service with a single end-\n       point at https://sts.amazonaws.com . Calls to this endpoint are  logged\n       as  calls to a global service. However, because this endpoint is physi-\n       cally located in the US East  (N.  Virginia)  Region,  your  logs  list\n       us-east-1  as the event Region. CloudTrail does not write these logs to\n       the US East (Ohio) Region unless you choose to include  global  service\n       logs  in that Region. CloudTrail writes calls to all Regional endpoints\n       to their respective Regions. For example, calls  to  sts.us-east-2.ama-\n       zonaws.com  are  published  to  the  US East (Ohio) Region and calls to\n       sts.eu-central-1.amazonaws.com are  published  to  the  EU  (Frankfurt)\n       Region.\n\n       To  learn  more  about CloudTrail, including how to turn it on and find\n       your log files, see the AWS CloudTrail User Guide .\n\nAVAILABLE COMMANDS\n       o assume-role\n\n       o assume-role-with-saml\n\n       o assume-role-with-web-identity\n\n       o decode-authorization-message\n\n       o get-access-key-info\n\n       o get-caller-identity\n\n       o get-federation-token\n\n       o get-session-token\n\n       o help\n\n\n\n                                                                         STS()\n"
    }
   ],
   "source": [
    "aws sts help"
   ]
  },
  {
   "cell_type": "code",
   "execution_count": 5,
   "metadata": {
    "tags": []
   },
   "outputs": [
    {
     "output_type": "stream",
     "name": "stdout",
     "text": "GET-CALLER-IDENTITY()                                    GET-CALLER-IDENTITY()\n\n\n\nNAME\n       get-caller-identity -\n\nDESCRIPTION\n       Returns  details  about the IAM user or role whose credentials are used\n       to call the operation.\n\n       NOTE:\n          No permissions are required to perform this operation. If an  admin-\n          istrator  adds  a  policy  to  your IAM user or role that explicitly\n          denies access to the sts:GetCallerIdentity  action,  you  can  still\n          perform  this  operation.  Permissions  are not required because the\n          same information is returned when an IAM  user  or  role  is  denied\n          access. To view an example response, see I Am Not Authorized to Per-\n          form: iam:DeleteVirtualMFADevice in the IAM User Guide .\n\n       See also: AWS API Documentation\n\n       See 'aws help' for descriptions of global parameters.\n\nSYNOPSIS\n            get-caller-identity\n          [--cli-input-json | --cli-input-yaml]\n          [--generate-cli-skeleton <value>]\n          [--cli-auto-prompt <value>]\n\nOPTIONS\n       --cli-input-json | --cli-input-yaml (string) Reads arguments  from  the\n       JSON  string  provided.  The JSON string follows the format provided by\n       --generate-cli-skeleton. If other arguments are provided on the command\n       line,  those  values  will override the JSON-provided values. It is not\n       possible to pass arbitrary binary values using a JSON-provided value as\n       the  string  will  be  taken literally. This may not be specified along\n       with --cli-input-yaml.\n\n       --generate-cli-skeleton (string) Prints a  JSON  skeleton  to  standard\n       output without sending an API request. If provided with no value or the\n       value input, prints a sample input JSON that can be used as an argument\n       for --cli-input-json. Similarly, if provided yaml-input it will print a\n       sample input YAML that can be used with --cli-input-yaml.  If  provided\n       with  the  value  output, it validates the command inputs and returns a\n       sample output JSON for that command.\n\n       --cli-auto-prompt (boolean) Automatically prompt for CLI input  parame-\n       ters.\n\n       See 'aws help' for descriptions of global parameters.\n\nEXAMPLES\n       To get details about the current IAM identity\n\n       The  following  get-caller-identity  example displays information about\n       the IAM identity used to authenticate the request. The caller is an IAM\n       user.\n\n          aws sts get-caller-identity\n\n       Output:\n\n          {\n              \"UserId\": \"AIDASAMPLEUSERID\",\n              \"Account\": \"123456789012\",\n              \"Arn\": \"arn:aws:iam::123456789012:user/DevAdmin\"\n          }\n\nOUTPUT\n       UserId -> (string)\n          The unique identifier of the calling entity. The exact value depends\n          on the type of entity that is making the call. The  values  returned\n          are  those  listed  in  the aws:userid column in the Principal table\n          found on the Policy Variables reference page in the IAM User Guide .\n\n       Account -> (string)\n          The  AWS  account ID number of the account that owns or contains the\n          calling entity.\n\n       Arn -> (string)\n          The AWS ARN associated with the calling entity.\n\n\n\n                                                         GET-CALLER-IDENTITY()\n"
    }
   ],
   "source": [
    "aws sts get-caller-identity help"
   ]
  },
  {
   "cell_type": "markdown",
   "metadata": {},
   "source": [
    "## Output, Query and Filters\n",
    "\n",
    "Every account in each region always has a default VPC so you can always explore VPCs without have to first create a resource to explore. The [describe-vpcs](https://awscli.amazonaws.com/v2/documentation/api/latest/reference/ec2/describe-vpcs.html) subcommand for `ec2` will output a large JSON blob describing all the VPCs in this account in this region.\n",
    "\n",
    "If you get an error with this command, check what policies are attached to the role you are using and ensure it has full access to EC2 before trying again."
   ]
  },
  {
   "cell_type": "code",
   "execution_count": 6,
   "metadata": {
    "tags": []
   },
   "outputs": [
    {
     "output_type": "stream",
     "name": "stdout",
     "text": "{\n    \"Vpcs\": [\n        {\n            \"CidrBlock\": \"172.16.0.0/16\",\n            \"DhcpOptionsId\": \"dopt-56317531\",\n            \"State\": \"available\",\n            \"VpcId\": \"vpc-082bb71da5e445aa4\",\n            \"OwnerId\": \"133766463080\",\n            \"InstanceTenancy\": \"default\",\n            \"CidrBlockAssociationSet\": [\n                {\n                    \"AssociationId\": \"vpc-cidr-assoc-067aaa76496202809\",\n                    \"CidrBlock\": \"172.16.0.0/16\",\n                    \"CidrBlockState\": {\n                        \"State\": \"associated\"\n                    }\n                }\n            ],\n            \"IsDefault\": false,\n            \"Tags\": [\n                {\n                    \"Key\": \"AWSServiceAccount\",\n                    \"Value\": \"531097355252\"\n                }\n            ]\n        },\n        {\n            \"CidrBlock\": \"172.31.0.0/16\",\n            \"DhcpOptionsId\": \"dopt-56317531\",\n            \"State\": \"available\",\n            \"VpcId\": \"vpc-983d67ff\",\n            \"OwnerId\": \"133766463080\",\n            \"InstanceTenancy\": \"default\",\n            \"CidrBlockAssociationSet\": [\n                {\n                    \"AssociationId\": \"vpc-cidr-assoc-7a7c7b12\",\n                    \"CidrBlock\": \"172.31.0.0/16\",\n                    \"CidrBlockState\": {\n                        \"State\": \"associated\"\n                    }\n                }\n            ],\n            \"IsDefault\": true\n        },\n        {\n            \"CidrBlock\": \"10.0.0.0/16\",\n            \"DhcpOptionsId\": \"dopt-56317531\",\n            \"State\": \"available\",\n            \"VpcId\": \"vpc-0edb83a9f67ec506f\",\n            \"OwnerId\": \"133766463080\",\n            \"InstanceTenancy\": \"default\",\n            \"CidrBlockAssociationSet\": [\n                {\n                    \"AssociationId\": \"vpc-cidr-assoc-0daf3d6934e7ca35f\",\n                    \"CidrBlock\": \"10.0.0.0/16\",\n                    \"CidrBlockState\": {\n                        \"State\": \"associated\"\n                    }\n                }\n            ],\n            \"IsDefault\": false,\n            \"Tags\": [\n                {\n                    \"Key\": \"aws:cloudformation:logical-id\",\n                    \"Value\": \"VPC\"\n                },\n                {\n                    \"Key\": \"Name\",\n                    \"Value\": \"Lab VPC\"\n                },\n                {\n                    \"Key\": \"aws:cloudformation:stack-name\",\n                    \"Value\": \"acf-labs\"\n                },\n                {\n                    \"Key\": \"aws:cloudformation:stack-id\",\n                    \"Value\": \"arn:aws:cloudformation:ap-southeast-2:133766463080:stack/acf-labs/13225d80-44da-11ea-8537-0a0ad6464e74\"\n                }\n            ]\n        }\n    ]\n}\n"
    }
   ],
   "source": [
    "aws ec2 describe-vpcs"
   ]
  },
  {
   "cell_type": "markdown",
   "metadata": {
    "tags": []
   },
   "source": [
    "We can [query](https://docs.aws.amazon.com/cli/latest/userguide/cli-usage-output.html#cli-usage-output-filter) a subset of the output using [JMESPath](http://jmespath.org/) strings. From the JSON above we see the VPCs are a list, and within the list we can just pull out specific values like the VpcId and CidrBlock. Notice that we can rename those fields if we want to."
   ]
  },
  {
   "cell_type": "code",
   "execution_count": 7,
   "metadata": {
    "tags": []
   },
   "outputs": [
    {
     "output_type": "stream",
     "name": "stdout",
     "text": "[\n    {\n        \"ID\": \"vpc-082bb71da5e445aa4\",\n        \"CIDR\": \"172.16.0.0/16\",\n        \"Default\": false\n    },\n    {\n        \"ID\": \"vpc-983d67ff\",\n        \"CIDR\": \"172.31.0.0/16\",\n        \"Default\": true\n    },\n    {\n        \"ID\": \"vpc-0edb83a9f67ec506f\",\n        \"CIDR\": \"10.0.0.0/16\",\n        \"Default\": false\n    }\n]\n"
    }
   ],
   "source": [
    "aws ec2 describe-vpcs --query 'Vpcs[*].{ID:VpcId,CIDR:CidrBlock,Default:IsDefault}'"
   ]
  },
  {
   "cell_type": "markdown",
   "metadata": {},
   "source": [
    "The output format can be changed with `--output` to `table`, `text` (and with v2 `yaml`):"
   ]
  },
  {
   "cell_type": "code",
   "execution_count": 8,
   "metadata": {
    "tags": []
   },
   "outputs": [
    {
     "output_type": "stream",
     "name": "stdout",
     "text": "-------------------------------------------------------\n|                    DescribeVpcs                     |\n+----------------+----------+-------------------------+\n|      CIDR      | Default  |           ID            |\n+----------------+----------+-------------------------+\n|  \u001b[1m\u001b[34m172.16.0.0/16\u001b[0m |  \u001b[1m\u001b[34mFalse\u001b[0m   |  \u001b[1m\u001b[34mvpc-082bb71da5e445aa4\u001b[0m  |\n|  \u001b[1m\u001b[34m172.31.0.0/16\u001b[0m |  \u001b[1m\u001b[34mTrue\u001b[0m    |  \u001b[1m\u001b[34mvpc-983d67ff\u001b[0m           |\n|  \u001b[1m\u001b[34m10.0.0.0/16\u001b[0m   |  \u001b[1m\u001b[34mFalse\u001b[0m   |  \u001b[1m\u001b[34mvpc-0edb83a9f67ec506f\u001b[0m  |\n+----------------+----------+-------------------------+\n\u001b[0m"
    }
   ],
   "source": [
    "aws ec2 describe-vpcs --query 'Vpcs[*].{ID:VpcId,CIDR:CidrBlock,Default:IsDefault}' --output table"
   ]
  },
  {
   "cell_type": "code",
   "execution_count": 9,
   "metadata": {
    "tags": []
   },
   "outputs": [
    {
     "output_type": "stream",
     "name": "stdout",
     "text": "172.16.0.0/16\tFalse\tvpc-082bb71da5e445aa4\n172.31.0.0/16\tTrue\tvpc-983d67ff\n10.0.0.0/16\tFalse\tvpc-0edb83a9f67ec506f\n"
    }
   ],
   "source": [
    "aws ec2 describe-vpcs --query 'Vpcs[*].{ID:VpcId,CIDR:CidrBlock,Default:IsDefault}' --output text"
   ]
  },
  {
   "cell_type": "code",
   "execution_count": 10,
   "metadata": {
    "tags": []
   },
   "outputs": [
    {
     "output_type": "stream",
     "name": "stdout",
     "text": "- CIDR: 172.16.0.0/16\n  Default: false\n  ID: vpc-082bb71da5e445aa4\n- CIDR: 172.31.0.0/16\n  Default: true\n  ID: vpc-983d67ff\n- CIDR: 10.0.0.0/16\n  Default: false\n  ID: vpc-0edb83a9f67ec506f\n"
    }
   ],
   "source": [
    "aws ec2 describe-vpcs --query 'Vpcs[*].{ID:VpcId,CIDR:CidrBlock,Default:IsDefault}' --output yaml"
   ]
  },
  {
   "cell_type": "markdown",
   "metadata": {},
   "source": [
    "If we just want the first VPC returned in the json blob:"
   ]
  },
  {
   "cell_type": "code",
   "execution_count": 11,
   "metadata": {
    "tags": []
   },
   "outputs": [
    {
     "output_type": "stream",
     "name": "stdout",
     "text": "{\n    \"ID\": \"vpc-082bb71da5e445aa4\",\n    \"CIDR\": \"172.16.0.0/16\",\n    \"Default\": false\n}\n"
    }
   ],
   "source": [
    "aws ec2 describe-vpcs --query 'Vpcs[0].{ID:VpcId,CIDR:CidrBlock,Default:IsDefault}'"
   ]
  },
  {
   "cell_type": "markdown",
   "metadata": {},
   "source": [
    "Or we can find the default VPC by using the `?` operator. Note the use of backticks in the query expression."
   ]
  },
  {
   "cell_type": "code",
   "execution_count": 12,
   "metadata": {
    "tags": []
   },
   "outputs": [
    {
     "output_type": "stream",
     "name": "stdout",
     "text": "[\n    {\n        \"ID\": \"vpc-983d67ff\",\n        \"CIDR\": \"172.31.0.0/16\",\n        \"Default\": true\n    }\n]\n"
    }
   ],
   "source": [
    "aws ec2 describe-vpcs --query 'Vpcs[?IsDefault==`true`].{ID:VpcId,CIDR:CidrBlock,Default:IsDefault}'"
   ]
  },
  {
   "cell_type": "markdown",
   "metadata": {},
   "source": [
    "That approach is applying the expression to the result returned to the CLI client. The preferred way to specify what resources are returned by a command is use the `--filters` option if a filter exists for your resource."
   ]
  },
  {
   "cell_type": "code",
   "execution_count": 13,
   "metadata": {
    "tags": []
   },
   "outputs": [
    {
     "output_type": "stream",
     "name": "stdout",
     "text": "[\n    {\n        \"ID\": \"vpc-983d67ff\",\n        \"CIDR\": \"172.31.0.0/16\",\n        \"Default\": true\n    }\n]\n"
    }
   ],
   "source": [
    "aws ec2 describe-vpcs --filters 'Name=isDefault,Values=true' --query 'Vpcs[*].{ID:VpcId,CIDR:CidrBlock,Default:IsDefault}'"
   ]
  },
  {
   "cell_type": "markdown",
   "metadata": {},
   "source": [
    "If you know the ID of resource you are looking for you may be able to specify that as a parameter. Replace `VPCID` with the VpcId from the previous output:"
   ]
  },
  {
   "cell_type": "code",
   "execution_count": 14,
   "metadata": {
    "tags": []
   },
   "outputs": [
    {
     "output_type": "stream",
     "name": "stdout",
     "text": "\nAn error occurred (InvalidVpcID.NotFound) when calling the DescribeVpcs operation: The vpc ID 'vpcid' does not exist\n"
    },
    {
     "output_type": "error",
     "ename": "",
     "evalue": "254",
     "traceback": []
    }
   ],
   "source": [
    "aws ec2 describe-vpcs --query 'Vpcs[*].{ID:VpcId,CIDR:CidrBlock,Default:IsDefault}' --vpc-ids VPCID"
   ]
  },
  {
   "cell_type": "markdown",
   "metadata": {},
   "source": [
    "## Creating Resources\n",
    "\n",
    "When creating resources there will be some mandatory parameters, as well as optional parameters. From the help for `create-vpc` what parameter is mandatory?\n",
    "\n",
    "_Note: If using cli v2 in a real shell (not a notebook) you can use the `--cli-auto-prompt` option to be prompted for the mandatory parameters. If autocomplete if setup you can also type the start of the parameter `--` and press tab twice to be shown the list of parameters._\n"
   ]
  },
  {
   "cell_type": "code",
   "execution_count": 17,
   "metadata": {
    "tags": []
   },
   "outputs": [
    {
     "output_type": "stream",
     "name": "stdout",
     "text": "<string>:162: (WARNING/2) Inline substitution_reference start-string without end-string.\nCREATE-VPC()                                                      CREATE-VPC()\n\n\n\nNAME\n       create-vpc -\n\nDESCRIPTION\n       Creates  a VPC with the specified IPv4 CIDR block. The smallest VPC you\n       can create uses a /28 netmask (16 IPv4 addresses), and the largest uses\n       a  /16  netmask (65,536 IPv4 addresses). For more information about how\n       large to make your VPC, see Your VPC and Subnets in the Amazon  Virtual\n       Private Cloud User Guide .\n\n       You  can  optionally  request  an  IPv6 CIDR block for the VPC. You can\n       request an Amazon-provided IPv6 CIDR block from Amazon's pool  of  IPv6\n       addresses,  or  an  IPv6  CIDR block from an IPv6 address pool that you\n       provisioned through bring your own IP addresses (BYOIP ).\n\n       By default, each instance you launch in the VPC has  the  default  DHCP\n       options,  which include only a default DNS server that we provide (Ama-\n       zonProvidedDNS). For more information, see DHCP  Options  Sets  in  the\n       Amazon Virtual Private Cloud User Guide .\n\n       You  can specify the instance tenancy value for the VPC when you create\n       it. You can't change this value for the VPC after you  create  it.  For\n       more information, see Dedicated Instances in the Amazon Elastic Compute\n       Cloud User Guide .\n\n       See also: AWS API Documentation\n\n       See 'aws help' for descriptions of global parameters.\n\nSYNOPSIS\n            create-vpc\n          --cidr-block <value>\n          [--amazon-provided-ipv6-cidr-block | --no-amazon-provided-ipv6-cidr-block]\n          [--ipv6-pool <value>]\n          [--ipv6-cidr-block <value>]\n          [--dry-run | --no-dry-run]\n          [--instance-tenancy <value>]\n          [--ipv6-cidr-block-network-border-group <value>]\n          [--tag-specifications <value>]\n          [--cli-input-json | --cli-input-yaml]\n          [--generate-cli-skeleton <value>]\n          [--cli-auto-prompt <value>]\n\nOPTIONS\n       --cidr-block (string)\n          The IPv4 network range for the VPC, in CIDR notation.  For  example,\n          10.0.0.0/16  .  We  modify the specified CIDR block to its canonical\n          form; for example, if you specify 100.68.0.18/18 , we modify  it  to\n          100.68.0.0/18 .\n\n       --amazon-provided-ipv6-cidr-block           |          --no-amazon-pro-\n       vided-ipv6-cidr-block (boolean)\n          Requests an Amazon-provided IPv6 CIDR block with a /56 prefix length\n          for  the  VPC.  You cannot specify the range of IP addresses, or the\n          size of the CIDR block.\n\n       --ipv6-pool (string)\n          The ID of an IPv6 address pool from which to allocate the IPv6  CIDR\n          block.\n\n       --ipv6-cidr-block (string)\n          The  IPv6 CIDR block from the IPv6 address pool. You must also spec-\n          ify Ipv6Pool in the request.\n\n          To let Amazon choose the IPv6 CIDR block for you, omit this  parame-\n          ter.\n\n       --dry-run | --no-dry-run (boolean)\n          Checks  whether  you  have  the required permissions for the action,\n          without actually making the request, and provides an error response.\n          If  you have the required permissions, the error response is DryRun-\n          Operation . Otherwise, it is UnauthorizedOperation .\n\n       --instance-tenancy (string)\n          The tenancy options for instances launched into the VPC. For default\n          ,  instances  are  launched  with shared tenancy by default. You can\n          launch instances with any tenancy into a  shared  tenancy  VPC.  For\n          dedicated , instances are launched as dedicated tenancy instances by\n          default. You can only launch instances with a tenancy  of  dedicated\n          or host into a dedicated tenancy VPC.\n              Important:  The  host  value cannot be used with this parameter.\n              Use the default or dedicated values only.\n\n          Default: default\n\n          Possible values:\n\n          o default\n\n          o dedicated\n\n          o host\n\n       --ipv6-cidr-block-network-border-group (string)\n          The name of the location from  which  we  advertise  the  IPV6  CIDR\n          block. Use this parameter to limit the address to this location.\n\n          You must set AmazonProvidedIpv6CidrBlock to true to use this parame-\n          ter.\n\n       --tag-specifications (list)\n          The tags to assign to the VPC.\n\n          (structure)\n              The tags to apply to a resource when the resource is being  cre-\n              ated.\n\n              ResourceType -> (string)\n                 The  type  of  resource to tag. Currently, the resource types\n                 that support tagging on creation are: capacity-reservation  |\n                 client-vpn-endpoint  |  customer-gateway  |  dedicated-host |\n                 dhcp-options |  export-image-task  |  export-instance-task  |\n                 fleet  |  fpga-image | host-reservation | import-image-task |\n                 import-snapshot-task  |   instance   |   internet-gateway   |\n                 ipv4pool-ec2  |  ipv6pool-ec2  | key-pair | launch-template |\n                 placement-group | prefix-list | natgateway  |  network-acl  |\n                 route-table   |   security-group   |   spot-fleet-request   |\n                 spot-instances-request | snapshot  |  subnet  |  traffic-mir-\n                 ror-filter | traffic-mirror-session | traffic-mirror-target |\n                 transit-gateway | transit-gateway-attachment |  transit-gate-\n                 way-route-table | volume\n                 |\n                 vpc  |  vpc-peering-connection  | vpc-endpoint (for interface\n                 and gateway endpoints) | vpc-endpoint-service (for  AWS  Pri-\n                 vateLink) | vpc-flow-log | vpn-connection | vpn-gateway .\n\n                 System Message: WARNING/2 (<string>:, line 162)\n                        Inline   substitution_reference  start-string  without\n                        end-string.\n\n                        To tag a resource  after  it  has  been  created,  see\n                        CreateTags .\n\n              Tags -> (list)\n                 The tags to apply to the resource.\n\n                 (structure)\n                     Describes a tag.\n\n                     Key -> (string)\n                        The key of the tag.\n\n                        Constraints:  Tag keys are case-sensitive and accept a\n                        maximum of 127 Unicode characters. May not begin  with\n                        aws: .\n\n                     Value -> (string)\n                        The value of the tag.\n\n                        Constraints:  Tag values are case-sensitive and accept\n                        a maximum of 255 Unicode characters.\n\n       Shorthand Syntax:\n\n          ResourceType=string,Tags=[{Key=string,Value=string},{Key=string,Value=string}] ...\n\n       JSON Syntax:\n\n          [\n            {\n              \"ResourceType\": \"client-vpn-endpoint\"|\"customer-gateway\"|\"dedicated-host\"|\"dhcp-options\"|\"elastic-ip\"|\"elastic-gpu\"|\"export-image-task\"|\"export-instance-task\"|\"fleet\"|\"fpga-image\"|\"host-reservation\"|\"image\"|\"import-image-task\"|\"import-snapshot-task\"|\"instance\"|\"internet-gateway\"|\"key-pair\"|\"launch-template\"|\"local-gateway-route-table-vpc-association\"|\"natgateway\"|\"network-acl\"|\"network-interface\"|\"placement-group\"|\"reserved-instances\"|\"route-table\"|\"security-group\"|\"snapshot\"|\"spot-fleet-request\"|\"spot-instances-request\"|\"subnet\"|\"traffic-mirror-filter\"|\"traffic-mirror-session\"|\"traffic-mirror-target\"|\"transit-gateway\"|\"transit-gateway-attachment\"|\"transit-gateway-multicast-domain\"|\"transit-gateway-route-table\"|\"volume\"|\"vpc\"|\"vpc-peering-connection\"|\"vpn-connection\"|\"vpn-gateway\"|\"vpc-flow-log\",\n              \"Tags\": [\n                {\n                  \"Key\": \"string\",\n                  \"Value\": \"string\"\n                }\n                ...\n              ]\n            }\n            ...\n          ]\n\n       --cli-input-json | --cli-input-yaml (string) Reads arguments  from  the\n       JSON  string  provided.  The JSON string follows the format provided by\n       --generate-cli-skeleton. If other arguments are provided on the command\n       line,  those  values  will override the JSON-provided values. It is not\n       possible to pass arbitrary binary values using a JSON-provided value as\n       the  string  will  be  taken literally. This may not be specified along\n       with --cli-input-yaml.\n\n       --generate-cli-skeleton (string) Prints a  JSON  skeleton  to  standard\n       output without sending an API request. If provided with no value or the\n       value input, prints a sample input JSON that can be used as an argument\n       for --cli-input-json. Similarly, if provided yaml-input it will print a\n       sample input YAML that can be used with --cli-input-yaml.  If  provided\n       with  the  value  output, it validates the command inputs and returns a\n       sample output JSON for that command.\n\n       --cli-auto-prompt (boolean) Automatically prompt for CLI input  parame-\n       ters.\n\n       See 'aws help' for descriptions of global parameters.\n\nEXAMPLES\n       Example 1: To create a VPC\n\n       The  following create-vpc example creates a VPC with the specified IPv4\n       CIDR block.\n\n          aws ec2 create-vpc \\\n              --ipv6-cidr-block-network-border-group us-west-2-lax-1 \\\n              --cidr-block 10.0.0.0/16\n\n       Output:\n\n          {\n              \"Vpc\": {\n                  \"CidrBlock\": \"10.0.0.0/16\",\n                  \"DhcpOptionsId\": \"dopt-5EXAMPLE\",\n                  \"State\": \"pending\",\n                  \"VpcId\": \"vpc-0a60eb65b4EXAMPLE\",\n                  \"OwnerId\": \"123456789012\",\n                  \"InstanceTenancy\": \"default\",\n                  \"Ipv6CidrBlockAssociationSet\": [],\n                  \"CidrBlockAssociationSet\": [\n                      {\n                          \"AssociationId\": \"vpc-cidr-assoc-07501b79ecEXAMPLE\",\n                          \"CidrBlock\": \"10.0.0.0/16\",\n                          \"CidrBlockState\": {\n                              \"State\": \"associated\"\n                      }\n                  \"NetworkBorderGroup\": \"us-west-2-lax-1\"\n                      }\n                  ],\n                  \"IsDefault\": false,\n                  \"Tags\": []\n              }\n          }\n\n       Example 2: To create a VPC with dedicated tenancy\n\n       The following create-vpc example creates a VPC with the specified  IPv4\n       CIDR block and dedicated tenancy.\n\n          aws ec2 create-vpc\n                 --cidr-block 10.0.0.0/16 --instance-tenancy dedicated\n\n       Output:\n\n          {\n              \"Vpc\": {\n                  \"CidrBlock\": \"10.0.0.0/16\",\n                  \"DhcpOptionsId\": \"dopt-19edf471\",\n                  \"State\": \"pending\",\n                  \"VpcId\": \"vpc-0a53287fa4EXAMPLE\",\n                  \"OwnerId\": \"111122223333\",\n                  \"InstanceTenancy\": \"dedicated\",\n                  \"Ipv6CidrBlockAssociationSet\": [],\n                  \"CidrBlockAssociationSet\": [\n                      {\n                          \"AssociationId\": \"vpc-cidr-assoc-00b24cc1c2EXAMPLE\",\n                          \"CidrBlock\": \"10.0.0.0/16\",\n                          \"CidrBlockState\": {\n                              \"State\": \"associated\"\n                          }\n                      }\n                  ],\n                  \"IsDefault\": false,\n                  \"Tags\": []\n              }\n          }\n\n       Example 3: To create a VPC with an IPv6 CIDR block\n\n       The  following create-vpc example creates a VPC with an Amazon-provided\n       IPv6 CIDR block.\n\n          aws ec2 create-vpc\n                 --cidr-block 10.0.0.0/16 --amazon-provided-ipv6-cidr-block\n\n       Output:\n\n          {\n              \"Vpc\": {\n                  \"CidrBlock\": \"10.0.0.0/16\",\n                  \"DhcpOptionsId\": \"dopt-dEXAMPLE\",\n                  \"State\": \"pending\",\n                  \"VpcId\": \"vpc-0fc5e3406bEXAMPLE\",\n                  \"OwnerId\": \"123456789012\",\n                  \"InstanceTenancy\": \"default\",\n                  \"Ipv6CidrBlockAssociationSet\": [\n                      {\n                          \"AssociationId\": \"vpc-cidr-assoc-068432c60bEXAMPLE\",\n                          \"Ipv6CidrBlock\": \"\",\n                          \"Ipv6CidrBlockState\": {\n                              \"State\": \"associating\"\n                          },\n                          \"Ipv6Pool\": \"Amazon\",\n                          \"NetworkBorderGroup\": \"us-west-2\"\n                      }\n                  ],\n                  \"CidrBlockAssociationSet\": [\n                      {\n                          \"AssociationId\": \"vpc-cidr-assoc-0669f8f9f5EXAMPLE\",\n                          \"CidrBlock\": \"10.0.0.0/16\",\n                          \"CidrBlockState\": {\n                              \"State\": \"associated\"\n                          }\n                      }\n                  ],\n                  \"IsDefault\": false,\n                  \"Tags\": []\n              }\n          }\n\n       For more information, see Creating a VPC in the AWS VPC User Guide.\n\nOUTPUT\n       Vpc -> (structure)\n          Information about the VPC.\n\n          CidrBlock -> (string)\n              The primary IPv4 CIDR block for the VPC.\n\n          DhcpOptionsId -> (string)\n              The ID of the set of DHCP options  you've  associated  with  the\n              VPC.\n\n          State -> (string)\n              The current state of the VPC.\n\n          VpcId -> (string)\n              The ID of the VPC.\n\n          OwnerId -> (string)\n              The ID of the AWS account that owns the VPC.\n\n          InstanceTenancy -> (string)\n              The allowed tenancy of instances launched into the VPC.\n\n          Ipv6CidrBlockAssociationSet -> (list)\n              Information  about the IPv6 CIDR blocks associated with the VPC.\n\n              (structure)\n                 Describes an IPv6 CIDR block associated with a VPC.\n\n                 AssociationId -> (string)\n                     The association ID for the IPv6 CIDR block.\n\n                 Ipv6CidrBlock -> (string)\n                     The IPv6 CIDR block.\n\n                 Ipv6CidrBlockState -> (structure)\n                     Information about the state of the CIDR block.\n\n                     State -> (string)\n                        The state of the CIDR block.\n\n                     StatusMessage -> (string)\n                        A message about the  status  of  the  CIDR  block,  if\n                        applicable.\n\n                 NetworkBorderGroup -> (string)\n                     The  name  of the unique set of Availability Zones, Local\n                     Zones, or Wavelength Zones from which AWS  advertises  IP\n                     addresses, for example, us-east-1-wl1-bos-wlz-1 .\n\n                 Ipv6Pool -> (string)\n                     The  ID of the IPv6 address pool from which the IPv6 CIDR\n                     block is allocated.\n\n          CidrBlockAssociationSet -> (list)\n              Information about the IPv4 CIDR blocks associated with the  VPC.\n\n              (structure)\n                 Describes an IPv4 CIDR block associated with a VPC.\n\n                 AssociationId -> (string)\n                     The association ID for the IPv4 CIDR block.\n\n                 CidrBlock -> (string)\n                     The IPv4 CIDR block.\n\n                 CidrBlockState -> (structure)\n                     Information about the state of the CIDR block.\n\n                     State -> (string)\n                        The state of the CIDR block.\n\n                     StatusMessage -> (string)\n                        A  message  about  the  status  of  the CIDR block, if\n                        applicable.\n\n          IsDefault -> (boolean)\n              Indicates whether the VPC is the default VPC.\n\n          Tags -> (list)\n              Any tags assigned to the VPC.\n\n              (structure)\n                 Describes a tag.\n\n                 Key -> (string)\n                     The key of the tag.\n\n                     Constraints: Tag keys are  case-sensitive  and  accept  a\n                     maximum  of  127  Unicode  characters. May not begin with\n                     aws: .\n\n                 Value -> (string)\n                     The value of the tag.\n\n                     Constraints: Tag values are case-sensitive and  accept  a\n                     maximum of 255 Unicode characters.\n\n\n\n                                                                  CREATE-VPC()\n"
    }
   ],
   "source": [
    "aws ec2 create-vpc help"
   ]
  },
  {
   "cell_type": "markdown",
   "metadata": {},
   "source": [
    "Create a VPC with a CIDR block 10.10.0.0/16 by replacing `COMPLETE_ME` below."
   ]
  },
  {
   "cell_type": "code",
   "execution_count": 32,
   "metadata": {
    "tags": []
   },
   "outputs": [
    {
     "output_type": "stream",
     "name": "stdout",
     "text": "{\n    \"Vpc\": {\n        \"CidrBlock\": \"10.10.0.0/16\",\n        \"DhcpOptionsId\": \"dopt-56317531\",\n        \"State\": \"pending\",\n        \"VpcId\": \"vpc-002a8ec8f14a25b3c\",\n        \"OwnerId\": \"133766463080\",\n        \"InstanceTenancy\": \"default\",\n        \"Ipv6CidrBlockAssociationSet\": [],\n        \"CidrBlockAssociationSet\": [\n            {\n                \"AssociationId\": \"vpc-cidr-assoc-0c8764ec4873a8c4f\",\n                \"CidrBlock\": \"10.10.0.0/16\",\n                \"CidrBlockState\": {\n                    \"State\": \"associated\"\n                }\n            }\n        ],\n        \"IsDefault\": false\n    }\n}\n"
    }
   ],
   "source": [
    "aws ec2 create-vpc COMPLETE_ME"
   ]
  },
  {
   "cell_type": "markdown",
   "metadata": {},
   "source": [
    "How would we list the set of VPCs that only have a CIDR range starting with 10? This can be done with a filter or a query."
   ]
  },
  {
   "cell_type": "code",
   "execution_count": 19,
   "metadata": {
    "tags": []
   },
   "outputs": [
    {
     "output_type": "stream",
     "name": "stdout",
     "text": "[\n    {\n        \"ID\": \"vpc-0edb83a9f67ec506f\",\n        \"CIDR\": \"10.0.0.0/16\",\n        \"Default\": false\n    },\n    {\n        \"ID\": \"vpc-003467fd272a8bf12\",\n        \"CIDR\": \"10.10.0.0/16\",\n        \"Default\": false\n    }\n]\n"
    }
   ],
   "source": [
    "aws ec2 describe-vpcs COMPLETE_ME"
   ]
  },
  {
   "cell_type": "markdown",
   "metadata": {},
   "source": [
    "To make our VPC more recognisable, add a tag called `Name` to the VPC, replacing `VPCID` with your VPC's ID. Note how tags make the query more complicated."
   ]
  },
  {
   "cell_type": "code",
   "execution_count": 33,
   "metadata": {
    "tags": []
   },
   "outputs": [
    {
     "output_type": "stream",
     "name": "stdout",
     "text": "----------------------------------------------------------------------------\n|                               DescribeVpcs                               |\n+---------------+----------+-------------------------+---------------------+\n|     CIDR      | Default  |           ID            |        Name         |\n+---------------+----------+-------------------------+---------------------+\n|  \u001b[1m\u001b[34m10.10.0.0/16\u001b[0m |  \u001b[1m\u001b[34mFalse\u001b[0m   |  \u001b[1m\u001b[34mvpc-002a8ec8f14a25b3c\u001b[0m  |  \u001b[1m\u001b[34mnotebook-demo-vpc\u001b[0m  |\n|  \u001b[1m\u001b[34m172.16.0.0/16\u001b[0m|  \u001b[1m\u001b[34mFalse\u001b[0m   |  \u001b[1m\u001b[34mvpc-082bb71da5e445aa4\u001b[0m  |  \u001b[1m\u001b[34mNone\u001b[0m               |\n|  \u001b[1m\u001b[34m172.31.0.0/16\u001b[0m|  \u001b[1m\u001b[34mTrue\u001b[0m    |  \u001b[1m\u001b[34mvpc-983d67ff\u001b[0m           |  \u001b[1m\u001b[34mNone\u001b[0m               |\n|  \u001b[1m\u001b[34m10.0.0.0/16\u001b[0m  |  \u001b[1m\u001b[34mFalse\u001b[0m   |  \u001b[1m\u001b[34mvpc-0edb83a9f67ec506f\u001b[0m  |  \u001b[1m\u001b[34mLab VPC\u001b[0m            |\n+---------------+----------+-------------------------+---------------------+\n\u001b[0m"
    }
   ],
   "source": [
    "aws ec2 create-tags \\\n",
    "    --resources VPCID \\\n",
    "    --tags Key=Name,Value=\"notebook-demo-vpc\"\n",
    "\n",
    "aws ec2 describe-vpcs --query 'Vpcs[*].{ID:VpcId,CIDR:CidrBlock,Default:IsDefault,Name:Tags[?Key == `Name`] | [0].Value}' --output table"
   ]
  },
  {
   "cell_type": "markdown",
   "metadata": {},
   "source": [
    "There are two things annoying about what we just did; cutting and pasting the VPCID and have to add a tag to the resource after creating the resource. The later problem has been fixed in v2 with the introduction of `--tag-specifications` to many commands.\n",
    "\n",
    "To fix the first problem we should use shell variables to capture the IDs for our resources as we create them. Replace `VPCID` in the following command to put your VPC's ID into the shell variable called `VPC`."
   ]
  },
  {
   "cell_type": "code",
   "execution_count": 23,
   "metadata": {},
   "outputs": [],
   "source": [
    "VPC=VPCID"
   ]
  },
  {
   "cell_type": "markdown",
   "metadata": {},
   "source": [
    "Create a subnet in the new VPC with a CIDR block of 10.10.1.0/24. Note the query is just returning the subnet's ID as a text value."
   ]
  },
  {
   "cell_type": "code",
   "execution_count": 28,
   "metadata": {
    "tags": []
   },
   "outputs": [
    {
     "output_type": "stream",
     "name": "stdout",
     "text": "subnet-0b4b1c3e8c97af409\n"
    }
   ],
   "source": [
    "SUBNET=$(aws ec2 create-subnet \\\n",
    "    --vpc-id $VPC \\\n",
    "    --cidr-block 10.10.1.0/24 \\\n",
    "    --query 'Subnet.SubnetId' \\\n",
    "    --output text)\n",
    "\n",
    "echo $SUBNET"
   ]
  },
  {
   "cell_type": "markdown",
   "metadata": {},
   "source": [
    "Some resources take time to create, like EC2 instances, RDS instances and EBS snapshots. The CLI commands will return before they are done, so you may need to use the `wait` command to know when they are operational."
   ]
  },
  {
   "cell_type": "code",
   "execution_count": 29,
   "metadata": {
    "tags": []
   },
   "outputs": [
    {
     "output_type": "stream",
     "name": "stdout",
     "text": "i-09cca2d2cd31b6739\n-----------------------------------------------------------\n|                    DescribeInstances                    |\n+---------------------------------------------------------+\n|                           ID                            |\n+---------------------------------------------------------+\n|  \u001b[1m\u001b[34mi-09cca2d2cd31b6739\u001b[0m                                    |\n+---------------------------------------------------------+\n\u001b[2m\u001b[33m|\u001b[0m|                     BlockDevices                      |\u001b[2m\u001b[33m|\u001b[0m\n\u001b[2m\u001b[33m|\u001b[0m+------------+--------------+---------------------------+\u001b[2m\u001b[33m|\u001b[0m\n\u001b[2m\u001b[33m|\u001b[0m|  Attached  |   Device     |          Volume           |\u001b[2m\u001b[33m|\u001b[0m\n\u001b[2m\u001b[33m|\u001b[0m+------------+--------------+---------------------------+\u001b[2m\u001b[33m|\u001b[0m\n\u001b[2m\u001b[33m|\u001b[0m|  \u001b[1m\u001b[34mattached\u001b[0m  |  \u001b[1m\u001b[34m/dev/xvda\u001b[0m   |  \u001b[1m\u001b[34mvol-08036aa44b90f0746\u001b[0m    |\u001b[2m\u001b[33m|\u001b[0m\n\u001b[2m\u001b[33m|\u001b[0m+------------+--------------+---------------------------+\u001b[2m\u001b[33m|\u001b[0m\n\u001b[2m\u001b[33m|\u001b[0m|                        Network                        |\u001b[2m\u001b[33m|\u001b[0m\n\u001b[2m\u001b[33m|\u001b[0m+-------------------------------------------------------+\u001b[2m\u001b[33m|\u001b[0m\n\u001b[2m\u001b[33m|\u001b[0m|                          ID                           |\u001b[2m\u001b[33m|\u001b[0m\n\u001b[2m\u001b[33m|\u001b[0m+-------------------------------------------------------+\u001b[2m\u001b[33m|\u001b[0m\n\u001b[2m\u001b[33m|\u001b[0m|  \u001b[1m\u001b[34meni-0008ce4ff74224b6f\u001b[0m                                |\u001b[2m\u001b[33m|\u001b[0m\n\u001b[2m\u001b[33m|\u001b[0m+-------------------------------------------------------+\u001b[2m\u001b[33m|\u001b[0m\n\u001b[2m\u001b[33m|\u001b[0m\u001b[2m\u001b[33m|\u001b[0m|                         IP                          |\u001b[2m\u001b[33m|\u001b[0m\u001b[2m\u001b[33m|\u001b[0m\n\u001b[2m\u001b[33m|\u001b[0m\u001b[2m\u001b[33m|\u001b[0m+---------+--------------+------------+---------------+\u001b[2m\u001b[33m|\u001b[0m\u001b[2m\u001b[33m|\u001b[0m\n\u001b[2m\u001b[33m|\u001b[0m\u001b[2m\u001b[33m|\u001b[0m| Primary |  PrivateIP   | PublicDNS  |   PublicIP    |\u001b[2m\u001b[33m|\u001b[0m\u001b[2m\u001b[33m|\u001b[0m\n\u001b[2m\u001b[33m|\u001b[0m\u001b[2m\u001b[33m|\u001b[0m+---------+--------------+------------+---------------+\u001b[2m\u001b[33m|\u001b[0m\u001b[2m\u001b[33m|\u001b[0m\n\u001b[2m\u001b[33m|\u001b[0m\u001b[2m\u001b[33m|\u001b[0m|  \u001b[1m\u001b[34mTrue\u001b[0m   |  \u001b[1m\u001b[34m10.10.1.26\u001b[0m  |  \u001b[1m\u001b[34m\u001b[0m          |  \u001b[1m\u001b[34m3.25.74.179\u001b[0m  |\u001b[2m\u001b[33m|\u001b[0m\u001b[2m\u001b[33m|\u001b[0m\n\u001b[2m\u001b[33m|\u001b[0m\u001b[2m\u001b[33m|\u001b[0m+---------+--------------+------------+---------------+\u001b[2m\u001b[33m|\u001b[0m\u001b[2m\u001b[33m|\u001b[0m\n\u001b[2m\u001b[33m|\u001b[0m\u001b[2m\u001b[33m|\u001b[0m|                      SecGroups                      |\u001b[2m\u001b[33m|\u001b[0m\u001b[2m\u001b[33m|\u001b[0m\n\u001b[2m\u001b[33m|\u001b[0m\u001b[2m\u001b[33m|\u001b[0m+-----------------------------------------------------+\u001b[2m\u001b[33m|\u001b[0m\u001b[2m\u001b[33m|\u001b[0m\n\u001b[2m\u001b[33m|\u001b[0m\u001b[2m\u001b[33m|\u001b[0m|  \u001b[1m\u001b[34msg-0313fab9569917ecd\u001b[0m                               |\u001b[2m\u001b[33m|\u001b[0m\u001b[2m\u001b[33m|\u001b[0m\n\u001b[2m\u001b[33m|\u001b[0m\u001b[2m\u001b[33m|\u001b[0m+-----------------------------------------------------+\u001b[2m\u001b[33m|\u001b[0m\u001b[2m\u001b[33m|\u001b[0m\n\u001b[0m"
    }
   ],
   "source": [
    "BASE_AMI=$(aws ssm get-parameter \\\n",
    "    --name /aws/service/ami-amazon-linux-latest/amzn2-ami-hvm-x86_64-gp2 \\\n",
    "    --query 'Parameter.Value' \\\n",
    "    --output text)\n",
    "\n",
    "INSTANCE=$(aws ec2 run-instances \\\n",
    "    --instance-type t2.micro \\\n",
    "    --associate-public-ip-address \\\n",
    "    --image-id $BASE_AMI \\\n",
    "    --subnet-id $SUBNET \\\n",
    "    --output text \\\n",
    "    --query 'Instances[*].InstanceId')\n",
    "\n",
    "echo $INSTANCE\n",
    "\n",
    "aws ec2 wait instance-running --instance-ids $INSTANCE \n",
    "\n",
    "aws ec2 describe-instances \\\n",
    "    --instance-ids $INSTANCE \\\n",
    "    --output table \\\n",
    "    --query \"Reservations[*].Instances[0].{ID:InstanceId,BlockDevices:BlockDeviceMappings[*].{Device:DeviceName,Attached:Ebs.Status,Volume:Ebs.VolumeId},Network:NetworkInterfaces[*].{SecGroups:Groups[*].GroupId,IP:PrivateIpAddresses[*].{PublicIP:Association.PublicIp,PublicDNS:Association.PublicDnsName,PrivateIP:PrivateIpAddress,Primary:Primary},ID:NetworkInterfaceId}}\""
   ]
  },
  {
   "cell_type": "markdown",
   "metadata": {},
   "source": [
    "## Cleanup\n",
    "In general you should remove resources in the reverse order they were created in, effectively popping off a stack. We need to wait for the instance to terminate before we can delete the subnet and VPC."
   ]
  },
  {
   "cell_type": "code",
   "execution_count": 30,
   "metadata": {
    "tags": []
   },
   "outputs": [
    {
     "output_type": "stream",
     "name": "stdout",
     "text": "{\n    \"TerminatingInstances\": [\n        {\n            \"CurrentState\": {\n                \"Code\": 32,\n                \"Name\": \"shutting-down\"\n            },\n            \"InstanceId\": \"i-09cca2d2cd31b6739\",\n            \"PreviousState\": {\n                \"Code\": 16,\n                \"Name\": \"running\"\n            }\n        }\n    ]\n}\n"
    }
   ],
   "source": [
    "aws ec2 terminate-instances --instance-ids $INSTANCE\n",
    "aws ec2 wait instance-terminated --instance-ids $INSTANCE\n",
    "echo \"$INSTANCE Terminated\"\n",
    "aws ec2 delete-subnet --subnet-id $SUBNET\n",
    "aws ec2 delete-vpc --vpc-id $VPC\n",
    "echo \"$VPC Deleted\""
   ]
  },
  {
   "cell_type": "code",
   "execution_count": 31,
   "metadata": {
    "tags": []
   },
   "outputs": [
    {
     "output_type": "stream",
     "name": "stdout",
     "text": "-------------------------------------------------------\n|                    DescribeVpcs                     |\n+----------------+----------+-------------------------+\n|      CIDR      | Default  |           ID            |\n+----------------+----------+-------------------------+\n|  \u001b[1m\u001b[34m172.16.0.0/16\u001b[0m |  \u001b[1m\u001b[34mFalse\u001b[0m   |  \u001b[1m\u001b[34mvpc-082bb71da5e445aa4\u001b[0m  |\n|  \u001b[1m\u001b[34m172.31.0.0/16\u001b[0m |  \u001b[1m\u001b[34mTrue\u001b[0m    |  \u001b[1m\u001b[34mvpc-983d67ff\u001b[0m           |\n|  \u001b[1m\u001b[34m10.0.0.0/16\u001b[0m   |  \u001b[1m\u001b[34mFalse\u001b[0m   |  \u001b[1m\u001b[34mvpc-0edb83a9f67ec506f\u001b[0m  |\n+----------------+----------+-------------------------+\n\u001b[0m"
    }
   ],
   "source": [
    "aws ec2 describe-vpcs --query 'Vpcs[*].{ID:VpcId,CIDR:CidrBlock,Default:IsDefault}' --output table"
   ]
  }
 ],
 "metadata": {
  "kernelspec": {
   "display_name": "Bash",
   "language": "bash",
   "name": "bash"
  },
  "language_info": {
   "codemirror_mode": "shell",
   "file_extension": ".sh",
   "mimetype": "text/x-sh",
   "name": "bash",
   "version": "3.7.4-final"
  }
 },
 "nbformat": 4,
 "nbformat_minor": 4
}